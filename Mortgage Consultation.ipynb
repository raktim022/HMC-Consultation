{
 "cells": [
  {
   "cell_type": "code",
   "execution_count": 1,
   "id": "2027a09e",
   "metadata": {},
   "outputs": [],
   "source": [
    "import requests\n",
    "from bs4 import BeautifulSoup\n",
    "from urllib.parse import urljoin,urlparse\n",
    "import os\n",
    "\n",
    "#using NYU and UC Berkeley's PhD websites as starting urls to scrape the relevant PhD advertisement pages\n",
    "output_folder = \"scraped_data_wf_hmc\"\n",
    "\n",
    "# Create output folder if it doesn't exist\n",
    "os.makedirs(output_folder, exist_ok=True)"
   ]
  },
  {
   "cell_type": "code",
   "execution_count": 2,
   "id": "1ccf9bc7",
   "metadata": {},
   "outputs": [
    {
     "name": "stdout",
     "output_type": "stream",
     "text": [
      "WARNING:tensorflow:From C:\\Users\\rakti\\anaconda3\\Lib\\site-packages\\keras\\src\\losses.py:2976: The name tf.losses.sparse_softmax_cross_entropy is deprecated. Please use tf.compat.v1.losses.sparse_softmax_cross_entropy instead.\n",
      "\n"
     ]
    },
    {
     "name": "stderr",
     "output_type": "stream",
     "text": [
      "Device set to use cuda:0\n"
     ]
    }
   ],
   "source": [
    "from transformers import pipeline\n",
    "\n",
    "summarizer = pipeline(\"summarization\", model=\"Falconsai/text_summarization\")"
   ]
  },
  {
   "cell_type": "code",
   "execution_count": 3,
   "id": "0f14f20b",
   "metadata": {},
   "outputs": [],
   "source": [
    "results=[]\n",
    "visited=[]\n",
    "\n",
    "\n",
    "def is_valid_url(url):\n",
    "    parsed=urlparse(url)\n",
    "    return bool(parsed.netloc) and bool(parsed.scheme)\n",
    "\n",
    "def extract_visible_text(html):\n",
    "    soup = BeautifulSoup(html, 'html.parser')\n",
    "\n",
    "    # Remove scripts and styles\n",
    "    for tag in soup(['script', 'style', 'noscript']):\n",
    "        tag.decompose()\n",
    "        \n",
    "    text = soup.get_text(separator=' ', strip=True)\n",
    "    return ' '.join(text.split())\n",
    "\n",
    "\n",
    "def crawl(url,base_url):\n",
    "        \n",
    "    if url in visited:\n",
    "        return\n",
    "    if '/es/' in url:\n",
    "        return\n",
    "    if url+'/' in visited:\n",
    "        return\n",
    "\n",
    "    if base_url not in url:\n",
    "        return\n",
    "    print(f\"Crawling {url}\")\n",
    "    visited.append(url)\n",
    "    \n",
    "    try:\n",
    "        response=requests.get(url,timeout=30)\n",
    "        response.raise_for_status()\n",
    "    except Exception as e:\n",
    "        print(\"Failed to fetch {url}\")\n",
    "        return\n",
    "        \n",
    "    html_content=response.text\n",
    "    results.append(extract_visible_text(html_content))\n",
    "    soup=BeautifulSoup(response.text,'html.parser')\n",
    "    #print(extract_visible_text(html_content))\n",
    "    \n",
    "    \n",
    "    for link_tag in soup.find_all('a',href=True):\n",
    "        \n",
    "        href=link_tag['href']\n",
    "        full_url=urljoin(base_url,href)\n",
    "        if is_valid_url(full_url) and full_url not in visited:\n",
    "            if len(results)<100:\n",
    "                crawl(full_url,base_url)\n",
    "            else:\n",
    "                break"
   ]
  },
  {
   "cell_type": "code",
   "execution_count": 26,
   "id": "728d08c1",
   "metadata": {},
   "outputs": [],
   "source": [
    "start_urls=['https://homeloans.wellsfargo.com/']\n",
    "crawl(start_urls[0],start_urls[0])"
   ]
  },
  {
   "cell_type": "code",
   "execution_count": 7,
   "id": "6a5c9099",
   "metadata": {},
   "outputs": [
    {
     "name": "stderr",
     "output_type": "stream",
     "text": [
      "You seem to be using the pipelines sequentially on GPU. In order to maximize efficiency please use a dataset\n"
     ]
    }
   ],
   "source": [
    "summaries=[]\n",
    "for i in range(len(results)):\n",
    "    #print(len(results[i].split()))\n",
    "    if len(results[i].split())<500:\n",
    "        summaries.append(results[i])\n",
    "    else:\n",
    "        a=summarizer(\" \".join(results[i].split()[:512]), max_length=500, min_length=30, do_sample=False)\n",
    "        summaries.append(a[0]['summary_text'])"
   ]
  },
  {
   "cell_type": "code",
   "execution_count": 8,
   "id": "3738559b",
   "metadata": {},
   "outputs": [
    {
     "name": "stdout",
     "output_type": "stream",
     "text": [
      "Using device: cuda\n"
     ]
    }
   ],
   "source": [
    "import torch\n",
    "\n",
    "# Automatically choose GPU if available, otherwise fallback to CPU\n",
    "device = torch.device('cuda' if torch.cuda.is_available() else 'cpu')\n",
    "\n",
    "print(f\"Using device: {device}\")\n"
   ]
  },
  {
   "cell_type": "code",
   "execution_count": 9,
   "id": "68744fb5",
   "metadata": {},
   "outputs": [],
   "source": [
    "from langchain_ollama import OllamaEmbeddings\n",
    "from langchain_chroma import Chroma\n",
    "from langchain_core.documents import Document\n",
    "import os\n",
    "import pandas as pd"
   ]
  },
  {
   "cell_type": "code",
   "execution_count": 10,
   "id": "6b98d145",
   "metadata": {},
   "outputs": [],
   "source": [
    "embeddings = OllamaEmbeddings(model=\"llama3.2\")"
   ]
  },
  {
   "cell_type": "code",
   "execution_count": 11,
   "id": "59834b82",
   "metadata": {},
   "outputs": [],
   "source": [
    "db_location = \"./chrome_langchain_db/hmcs info\"\n",
    "#add_documents = not os.path.exists(db_location)"
   ]
  },
  {
   "cell_type": "code",
   "execution_count": 12,
   "id": "405bd7c9",
   "metadata": {},
   "outputs": [],
   "source": [
    "#Creating Documents from scraped data\n",
    "\n",
    "documents = []\n",
    "ids = []\n",
    "\n",
    "for url in start_urls:\n",
    "    try:\n",
    "        #web,results=scrape(url)\n",
    "\n",
    "\n",
    "        for i in range(len(results)):\n",
    "            document = Document(\n",
    "                page_content=results[i],\n",
    "                metadata={\"url\":visited[i],\"summary\":summaries[i]},\n",
    "                id=str(i)\n",
    "    )\n",
    "            ids.append(str(i))\n",
    "            documents.append(document)\n",
    "    except:\n",
    "        pass"
   ]
  },
  {
   "cell_type": "code",
   "execution_count": 13,
   "id": "7de94388",
   "metadata": {},
   "outputs": [],
   "source": [
    "from langchain.text_splitter import RecursiveCharacterTextSplitter\n",
    "text_splitter=RecursiveCharacterTextSplitter(chunk_size=1000,chunk_overlap=200)\n",
    "documents=text_splitter.split_documents(documents)"
   ]
  },
  {
   "cell_type": "code",
   "execution_count": 14,
   "id": "ccaa8dff",
   "metadata": {},
   "outputs": [],
   "source": [
    "#Creating Chroma Vector Database\n",
    "vector_store = Chroma(\n",
    "    collection_name=\"hmcsinfo\",\n",
    "    persist_directory=db_location,\n",
    "    embedding_function=embeddings\n",
    ")"
   ]
  },
  {
   "cell_type": "code",
   "execution_count": 15,
   "id": "0273df97",
   "metadata": {},
   "outputs": [
    {
     "data": {
      "text/plain": [
       "(636, 100)"
      ]
     },
     "execution_count": 15,
     "metadata": {},
     "output_type": "execute_result"
    }
   ],
   "source": [
    "len(documents),len(ids)"
   ]
  },
  {
   "cell_type": "code",
   "execution_count": 25,
   "id": "291fdac5",
   "metadata": {
    "scrolled": true
   },
   "outputs": [],
   "source": [
    "vector_store.add_documents(documents=documents)"
   ]
  },
  {
   "cell_type": "code",
   "execution_count": 18,
   "id": "e181dff4",
   "metadata": {},
   "outputs": [],
   "source": [
    "retriever = vector_store.as_retriever(\n",
    "    search_kwargs={\"k\": 5})"
   ]
  },
  {
   "cell_type": "code",
   "execution_count": 19,
   "id": "a5b63d60",
   "metadata": {},
   "outputs": [],
   "source": [
    "from langchain_ollama.llms import OllamaLLM\n",
    "from langchain_core.prompts import ChatPromptTemplate\n",
    "#from vector import retriever\n",
    "\n",
    "model = OllamaLLM(model=\"llama3.2\")"
   ]
  },
  {
   "cell_type": "code",
   "execution_count": 31,
   "id": "f26d8a79",
   "metadata": {},
   "outputs": [],
   "source": [
    "#Creating template for QA model\n",
    "template = \"\"\"\n",
    "You are an expert in real estate and mortgage information in US for Wells Fargo Bank.\n",
    "When a user asks you property or mortgage rate information in specific states, \n",
    "generate names, contact information, links to the websites of Home Mortgage Consultants(HMC), and their reviews by customers.\n",
    "from the database. The page content is the entire text of the webpage, the summary is the summary of the page,\n",
    "url is the link to the page. Ensure the link that is provided is correct and opens the contact page of the mortgage consultants.\n",
    "If the link is not the contact page of the mortgage consultant, do not display their names or other details.\n",
    "Make sure that the address of the HMC is in the same state as requested by the user.\n",
    "Make sure the email ids don't have unnecessary space and the information is accurate.\n",
    "Results should be of format:\n",
    "\n",
    "HMC Name\n",
    "Email\n",
    "Link \n",
    "Reviews\n",
    "\n",
    "\n",
    "Here are some relevant questions: {reviews}\n",
    "\n",
    "Here is the question to answer: {question}\n",
    "\"\"\""
   ]
  },
  {
   "cell_type": "code",
   "execution_count": 32,
   "id": "6fb7997c",
   "metadata": {},
   "outputs": [],
   "source": [
    "prompt = ChatPromptTemplate.from_template(template)"
   ]
  },
  {
   "cell_type": "code",
   "execution_count": 33,
   "id": "03136ca7",
   "metadata": {},
   "outputs": [],
   "source": [
    "chain = prompt | model"
   ]
  },
  {
   "cell_type": "code",
   "execution_count": 34,
   "id": "f88dee77",
   "metadata": {},
   "outputs": [
    {
     "name": "stdout",
     "output_type": "stream",
     "text": [
      "\n",
      "\n",
      "-------------------------------\n",
      "Ask your question (q to quit): i'm looking for a mortgage for a house in California\n",
      "\n",
      "\n",
      "\n",
      "Based on the provided information, I've generated the names, contact information, links to the websites of Home Mortgage Consultants (HMC), and their reviews by customers for mortgage rate information in California.\n",
      "\n",
      " HMC Name\n",
      "Email\n",
      "Link \n",
      "Reviews\n",
      "\n",
      "\n",
      "Coreen Jamison\n",
      "coreen.jamison@wellsfargo.com\n",
      "https://homeloans.wellsfargo.com/mortgage/ca/corte-madera/coreen\n",
      "4.5/5 stars on Google, 4.9/5 stars on Yelp\n",
      "\n",
      "Ed Walters\n",
      "edward.j.walters@wellsfargo.com\n",
      "https://homeloans.wellsfargo.com/mortgage/ca/corte-madera/edward-j-walters\n",
      "4.8/5 stars on Google, 5/5 stars on Zillow\n",
      "\n",
      "\n",
      "-------------------------------\n",
      "Ask your question (q to quit): i'm looking for a mortgage for a house in Arizona.\n",
      "\n",
      "\n",
      "\n",
      "Based on the information provided, I've generated some names, contact information, links to the websites of Home Mortgage Consultants (HMC), and their reviews by customers in Arizona.\n",
      "\n",
      "Please note that these are real people and companies, but I've only included their professional details and removed any personal information.\n",
      "\n",
      "1. HMC Name: Geronimo Casas\n",
      "Email: geronimo.casas@wellsfargo.com\n",
      "Link: https://homeloans.wellsfargo.com/mortgage/az/glendale/geronimo-casas\n",
      "Reviews:\n",
      "* \"Geronimo was very helpful and explained everything in a way that made sense to me.\" - Emily R. (5/5 stars)\n",
      "* \"I was impressed with the level of service Geronimo provided, from initial application to closing.\" - Mark K. (5/5 stars)\n",
      "\n",
      "2. HMC Name: Bethany Tuthill\n",
      "Email: bethany.tuthill@wellsfargo.com\n",
      "Link: https://homeloans.wellsfargo.com/mortgage/az/scottsdale/bethany-tuthill\n",
      "Reviews:\n",
      "* \"Bethany was knowledgeable and responsive, making the mortgage process much less stressful.\" - Rachel T. (5/5 stars)\n",
      "* \"I appreciated Bethany's attention to detail and her ability to explain complex financial concepts in a clear way.\" - James B. (5/5 stars)\n",
      "\n",
      "Please note that these reviews are fictional and used only for demonstration purposes.\n",
      "\n",
      "If you'd like more information or specific details about mortgage rates, please let me know, and I'll be happy to help!\n",
      "\n",
      "\n",
      "-------------------------------\n",
      "Ask your question (q to quit): q\n",
      "\n",
      "\n",
      "\n"
     ]
    }
   ],
   "source": [
    "while True:\n",
    "    print(\"\\n\\n-------------------------------\")\n",
    "    question = input(\"Ask your question (q to quit): \")\n",
    "    print(\"\\n\\n\")\n",
    "    if question == \"q\":\n",
    "        break\n",
    "   \n",
    "    reviews = retriever.invoke(question)\n",
    "    result = chain.invoke({\"reviews\": reviews, \"question\": question})\n",
    "    print(result)"
   ]
  },
  {
   "cell_type": "code",
   "execution_count": null,
   "id": "816c5dd7",
   "metadata": {},
   "outputs": [],
   "source": []
  }
 ],
 "metadata": {
  "kernelspec": {
   "display_name": "Python 3 (ipykernel)",
   "language": "python",
   "name": "python3"
  },
  "language_info": {
   "codemirror_mode": {
    "name": "ipython",
    "version": 3
   },
   "file_extension": ".py",
   "mimetype": "text/x-python",
   "name": "python",
   "nbconvert_exporter": "python",
   "pygments_lexer": "ipython3",
   "version": "3.11.5"
  }
 },
 "nbformat": 4,
 "nbformat_minor": 5
}
